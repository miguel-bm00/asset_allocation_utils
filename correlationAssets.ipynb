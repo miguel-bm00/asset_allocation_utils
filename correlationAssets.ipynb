{
 "cells": [
  {
   "cell_type": "code",
   "execution_count": 1,
   "id": "5da43269",
   "metadata": {},
   "outputs": [
    {
     "name": "stdout",
     "output_type": "stream",
     "text": [
      "0.9343267889594964\n"
     ]
    }
   ],
   "source": [
    "# Import necessary libraries\n",
    "import pandas as pd\n",
    "import numpy as np\n",
    "from pandas_datareader import data as pdr\n",
    "\n",
    "# Function to calculate the correlation between two stocks\n",
    "def stock_correlation(ticker1, ticker2):\n",
    "    # Get the stock data for the two tickers\n",
    "    stock1 = get_stock_data(ticker1)\n",
    "    stock2 = get_stock_data(ticker2)\n",
    "    \n",
    "    # Calculate the correlation between the two stocks\n",
    "    correlation = np.corrcoef(stock1[\"Close\"], stock2[\"Close\"])[0,1]\n",
    "    \n",
    "    # Return the correlation\n",
    "    return correlation\n",
    "\n",
    "# Function to get stock data for a given ticker\n",
    "def get_stock_data(ticker):\n",
    "    # Fetch stock data from Yahoo Finance\n",
    "    stock_data = pdr.get_data_yahoo(ticker)\n",
    "    \n",
    "    # Return the stock data\n",
    "    return stock_data\n",
    "\n",
    "# Example usage\n",
    "correlation = stock_correlation(\"AAPL\", \"GOOG\")\n",
    "print(correlation)\n"
   ]
  }
 ],
 "metadata": {
  "kernelspec": {
   "display_name": "Python 3 (ipykernel)",
   "language": "python",
   "name": "python3"
  },
  "language_info": {
   "codemirror_mode": {
    "name": "ipython",
    "version": 3
   },
   "file_extension": ".py",
   "mimetype": "text/x-python",
   "name": "python",
   "nbconvert_exporter": "python",
   "pygments_lexer": "ipython3",
   "version": "3.9.0"
  }
 },
 "nbformat": 4,
 "nbformat_minor": 5
}
